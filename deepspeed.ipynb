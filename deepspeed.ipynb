{
 "cells": [
  {
   "attachments": {},
   "cell_type": "markdown",
   "metadata": {},
   "source": [
    "## Setup & Installation\n",
    "\n",
    "create conda env\n",
    "```bash\n",
    "conda create -c conda-forge  -c pytorch -c nvidia --name ds \\\n",
    "python=3.9 pytorch pytorch-cuda=11.6\n",
    "```\n",
    "\n",
    "activate environment\n",
    "`conda activate ds`\n",
    "\n",
    "install jupyter\n",
    "`pip install jupyter`\n",
    "\n",
    "# Note: can current not be run in a notebook!!! \n",
    "\n",
    "run `python3 deepspeed_mii_server.py` after installation\n",
    "\n",
    "\n",
    "# Note2: Deepspeed uses the default scheduler\n",
    "\n",
    "-> adjust the config.json or fork the repository\n"
   ]
  },
  {
   "cell_type": "code",
   "execution_count": 5,
   "metadata": {},
   "outputs": [
    {
     "name": "stdout",
     "output_type": "stream",
     "text": [
      "Overwriting deepspeed_requirements.txt\n"
     ]
    }
   ],
   "source": [
    "%%writefile deepspeed_requirements.txt\n",
    "--extra-index-url https://download.pytorch.org/whl/cu116\n",
    "torch==1.12.1\n",
    "ninja \n",
    "diffusers==0.7.1\n",
    "transformers==4.24.0\n",
    "triton==2.0.0.dev20221005\n",
    "accelerate==0.15.0\n",
    "deepspeed==0.7.5\n",
    "deepspeed-mii==0.0.3"
   ]
  },
  {
   "cell_type": "code",
   "execution_count": null,
   "metadata": {},
   "outputs": [],
   "source": [
    "!pip install -r deepspeed_requirements.txt --upgrade"
   ]
  },
  {
   "cell_type": "code",
   "execution_count": 7,
   "metadata": {},
   "outputs": [
    {
     "name": "stdout",
     "output_type": "stream",
     "text": [
      "--------------------------------------------------\n",
      "DeepSpeed C++/CUDA extension op report\n",
      "--------------------------------------------------\n",
      "NOTE: Ops not installed will be just-in-time (JIT) compiled at\n",
      "      runtime if needed. Op compatibility means that your system\n",
      "      meet the required dependencies to JIT install the op.\n",
      "--------------------------------------------------\n",
      "JIT compiled ops requires ninja\n",
      "ninja .................. \u001b[92m[OKAY]\u001b[0m\n",
      "--------------------------------------------------\n",
      "op name ................ installed .. compatible\n",
      "--------------------------------------------------\n",
      "cpu_adam ............... \u001b[93m[NO]\u001b[0m ....... \u001b[92m[OKAY]\u001b[0m\n",
      "cpu_adagrad ............ \u001b[93m[NO]\u001b[0m ....... \u001b[92m[OKAY]\u001b[0m\n",
      "fused_adam ............. \u001b[93m[NO]\u001b[0m ....... \u001b[92m[OKAY]\u001b[0m\n",
      "fused_lamb ............. \u001b[93m[NO]\u001b[0m ....... \u001b[92m[OKAY]\u001b[0m\n",
      "\u001b[93m [WARNING] \u001b[0m using untested triton version (2.0.0), only 1.0.0 is known to be compatible\n",
      "sparse_attn ............ \u001b[93m[NO]\u001b[0m ....... \u001b[93m[NO]\u001b[0m\n",
      "transformer ............ \u001b[93m[NO]\u001b[0m ....... \u001b[92m[OKAY]\u001b[0m\n",
      "stochastic_transformer . \u001b[93m[NO]\u001b[0m ....... \u001b[92m[OKAY]\u001b[0m\n",
      "\u001b[93m [WARNING] \u001b[0m async_io requires the dev libaio .so object and headers but these were not found.\n",
      "\u001b[93m [WARNING] \u001b[0m async_io: please install the libaio-dev package with apt\n",
      "\u001b[93m [WARNING] \u001b[0m If libaio is already installed (perhaps from source), try setting the CFLAGS and LDFLAGS environment variables to where it can be found.\n",
      "async_io ............... \u001b[93m[NO]\u001b[0m ....... \u001b[93m[NO]\u001b[0m\n",
      "utils .................. \u001b[93m[NO]\u001b[0m ....... \u001b[92m[OKAY]\u001b[0m\n",
      "quantizer .............. \u001b[93m[NO]\u001b[0m ....... \u001b[92m[OKAY]\u001b[0m\n",
      "transformer_inference .. \u001b[93m[NO]\u001b[0m ....... \u001b[92m[OKAY]\u001b[0m\n",
      "spatial_inference ...... \u001b[93m[NO]\u001b[0m ....... \u001b[92m[OKAY]\u001b[0m\n",
      "--------------------------------------------------\n",
      "DeepSpeed general environment info:\n",
      "torch install path ............... ['/opt/conda/envs/ds/lib/python3.9/site-packages/torch']\n",
      "torch version .................... 1.12.1+cu116\n",
      "torch cuda version ............... 11.6\n",
      "torch hip version ................ None\n",
      "nvcc version ..................... 11.6\n",
      "deepspeed install path ........... ['/opt/conda/envs/ds/lib/python3.9/site-packages/deepspeed']\n",
      "deepspeed info ................... 0.7.5, unknown, unknown\n",
      "deepspeed wheel compiled w. ...... torch 0.0, cuda 0.0\n"
     ]
    }
   ],
   "source": [
    "!ds_report"
   ]
  }
 ],
 "metadata": {
  "kernelspec": {
   "display_name": "ds",
   "language": "python",
   "name": "python3"
  },
  "language_info": {
   "codemirror_mode": {
    "name": "ipython",
    "version": 3
   },
   "file_extension": ".py",
   "mimetype": "text/x-python",
   "name": "python",
   "nbconvert_exporter": "python",
   "pygments_lexer": "ipython3",
   "version": "3.9.15"
  },
  "orig_nbformat": 4,
  "vscode": {
   "interpreter": {
    "hash": "bf394f40c161475072bcd2f2176b2d8c08ea2199a743f7ae9cb490daa062bb58"
   }
  }
 },
 "nbformat": 4,
 "nbformat_minor": 2
}
